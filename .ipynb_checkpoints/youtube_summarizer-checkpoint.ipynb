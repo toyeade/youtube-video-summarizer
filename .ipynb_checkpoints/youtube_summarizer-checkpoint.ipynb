{
 "cells": [
  {
   "cell_type": "code",
   "execution_count": 1,
   "id": "124665c7",
   "metadata": {
    "vscode": {
     "languageId": "plaintext"
    }
   },
   "outputs": [],
   "source": [
    "import sys\n",
    "import os\n",
    "sys.path.append('src')\n",
    "sys.path.append('.')\n",
    "\n",
    "from youtube_utils import extract_youtube_id, get_transcript\n",
    "from openai_utils import summarize_with_gpt, create_enhanced_summary\n",
    "\n",
    "import config.config\n",
    "Config = config.config.Config"
   ]
  },
  {
   "cell_type": "code",
   "execution_count": 2,
   "id": "6f2c236b",
   "metadata": {
    "vscode": {
     "languageId": "plaintext"
    }
   },
   "outputs": [
    {
     "name": "stdout",
     "output_type": "stream",
     "text": [
      "Video ID: Ool1WJE4aw0\n"
     ]
    }
   ],
   "source": [
    "video_url = \"https://www.youtube.com/watch?v=Ool1WJE4aw0\"\n",
    "video_id = extract_youtube_id(video_url)\n",
    "print(f\"Video ID: {video_id}\")"
   ]
  },
  {
   "cell_type": "code",
   "execution_count": 3,
   "id": "5877300e",
   "metadata": {
    "vscode": {
     "languageId": "plaintext"
    }
   },
   "outputs": [
    {
     "name": "stdout",
     "output_type": "stream",
     "text": [
      "Transcript length: 10820 characters\n",
      "First 200 characters: Let us finally talk about the history of Bini and the history of Lagos. What relationship does the Bini people or the Edo people of the Benini kingdom what relationship do they have with Lagos state a...\n"
     ]
    }
   ],
   "source": [
    "try:\n",
    "    transcript = get_transcript(video_id)\n",
    "    print(f\"Transcript length: {len(transcript)} characters\")\n",
    "    print(f\"First 200 characters: {transcript[:200]}...\")\n",
    "except Exception as e:\n",
    "    print(f\"Error getting transcript: {e}\")"
   ]
  },
  {
   "cell_type": "code",
   "execution_count": 4,
   "id": "eda15c30",
   "metadata": {
    "vscode": {
     "languageId": "plaintext"
    }
   },
   "outputs": [
    {
     "name": "stdout",
     "output_type": "stream",
     "text": [
      "Video Summary:\n",
      "The video discusses the historical connections between the Bini (Edo) people from the Benin Kingdom and Lagos State, sparked by a claim made by the Oba of Benin in 2023 that the Edo people founded Lagos. This incited debate as it contradicts well-documented history and archaeological evidence. The first settlers of what is now Lagos were the Awori people, a subgroup of the Yoruba ethnic group, who settled in the region around 6000 BC. The Awori people occupied various locations, including Ota and Iseri, as well as the area now known as Ibutemeta along the lagoon. The video clarifies that the Edo and Yoruba are distinct ethnic groups, with no historical subordination of the Edo people under the Yoruba. Additionally, the video emphasizes the geographical separation between Edo territories and those of the Awori, underscoring the cultural and historical distinctions between these groups.\n"
     ]
    }
   ],
   "source": [
    "try:\n",
    "    summary = summarize_with_gpt(transcript, Config.OPENAI_API_KEY)\n",
    "    print(\"Video Summary:\")\n",
    "    print(summary)\n",
    "except Exception as e:\n",
    "    print(f\"Error summarizing: {e}\")"
   ]
  },
  {
   "cell_type": "code",
   "execution_count": 5,
   "id": "176ae4a8-3a5f-4583-9241-7d1f8046c731",
   "metadata": {},
   "outputs": [
    {
     "name": "stdout",
     "output_type": "stream",
     "text": [
      "=== ENHANCED SUMMARY WITH KEY HIGHLIGHTS ===\n",
      "```html\n",
      "<!DOCTYPE html>\n",
      "<html lang=\"en\">\n",
      "<head>\n",
      "    <meta charset=\"UTF-8\">\n",
      "    <meta http-equiv=\"X-UA-Compatible\" content=\"IE=edge\">\n",
      "    <meta name=\"viewport\" content=\"width=device-width, initial-scale=1.0\">\n",
      "    <title>Video Transcript Analysis</title>\n",
      "</head>\n",
      "<body>\n",
      "    <h1>Video Transcript Analysis</h1>\n",
      "\n",
      "    <h2>Main Topic</h2>\n",
      "    <p>This video explores the historical relationship between the Edo people of Benin and Lagos State, particularly addressing the claim that the Benin Kingdom founded Lagos.</p>\n",
      "\n",
      "    <h2>Key Highlights</h2>\n",
      "    <ul>\n",
      "        <li>The Oba of Benin sparked controversy by claiming that the Edo people founded Lagos.</li>\n",
      "        <li>The video distinguishes between different ethnic groups, specifically the Edo, Yoruba, and their subgroups.</li>\n",
      "        <li>The Awori people, a subgroup of the Yoruba, were the first settlers in the area known today as Lagos.</li>\n",
      "        <li>There is a detailed description of the settlements of the Awori people over 8,000 years ago.</li>\n",
      "        <li>A significant revolution began in the 9th century AD in Ife, affecting the Yoruba kingdoms and leading to new formations.</li>\n",
      "    </ul>\n",
      "\n",
      "    <h2>Summary</h2>\n",
      "    <p>The video delves into the contentious historical claims made by the Oba of Benin regarding the founding of Lagos by the Edo people. It provides a nuanced discussion by dissecting the linguistic and cultural differences between the Edo and Yoruba people, underscoring that the Edo are a distinct ethnic group from the Yoruba. The presenter reviews archaeological and historical evidence, showcasing that the Awori people, a Yoruba subgroup, were the initial settlers in the Lagos region as far back as 6,000 BC. Geographical descriptions are provided to demonstrate the settlements of the Awori people, including various islands and coastal regions. Additionally, the impact of a transformative revolution originating in Ife during the 9th century, which led to significant changes in Yoruba land, is discussed.</p>\n",
      "\n",
      "    <h2>Key Takeaways</h2>\n",
      "    <ul>\n",
      "        <li>Historical claims regarding ethnic origins should be approached with a reliance on archaeological and cultural evidence.</li>\n",
      "        <li>Understanding the unique identity of ethnic groups is crucial in accurately recounting history.</li>\n",
      "        <li>The Awori people's long history as the initial settlers of Lagos emphasizes the importance of recognizing indigenous roots in regional histories.</li>\n",
      "        <li>Historical revolutions play a pivotal role in reshaping cultural and political landscapes over centuries.</li>\n",
      "    </ul>\n",
      "</body>\n",
      "</html>\n",
      "```\n"
     ]
    }
   ],
   "source": [
    "# Enhanced Summary with Key Highlights and Bullet Points\n",
    "try:\n",
    "    enhanced_summary = create_enhanced_summary(transcript, Config.OPENAI_API_KEY)\n",
    "    print(\"=== ENHANCED SUMMARY WITH KEY HIGHLIGHTS ===\")\n",
    "    print(enhanced_summary)\n",
    "except Exception as e:\n",
    "    print(f\"Error creating enhanced summary: {e}\")"
   ]
  },
  {
   "cell_type": "code",
   "execution_count": null,
   "id": "27a6c8d0",
   "metadata": {
    "vscode": {
     "languageId": "plaintext"
    }
   },
   "outputs": [],
   "source": [
    "# Try with a different video\n",
    "video_url2 = \"https://www.youtube.com/watch?v=9bZkp7q19f0\"\n",
    "video_id2 = extract_youtube_id(video_url2)\n",
    "print(f\"Second Video ID: {video_id2}\")\n",
    "\n",
    "try:\n",
    "    transcript2 = get_transcript(video_id2)\n",
    "    summary2 = summarize_with_gpt(transcript2, Config.OPENAI_API_KEY)\n",
    "    print(\"Second Video Summary:\")\n",
    "    print(summary2)\n",
    "except Exception as e:\n",
    "    print(f\"Error with second video: {e}\")"
   ]
  },
  {
   "cell_type": "code",
   "execution_count": null,
   "id": "dab3e44a-9dd1-44ac-8ecd-3366bdaca7f6",
   "metadata": {},
   "outputs": [],
   "source": [
    "# Test enhanced summary on the second video (Gangnam Style)\n",
    "try:\n",
    "    enhanced_summary2 = create_enhanced_summary(transcript2, Config.OPENAI_API_KEY)\n",
    "    print(\"=== ENHANCED SUMMARY FOR GANGNAM STYLE ===\")\n",
    "    print(enhanced_summary2)\n",
    "except Exception as e:\n",
    "    print(f\"Error creating enhanced summary for second video: {e}\")"
   ]
  },
  {
   "cell_type": "code",
   "execution_count": null,
   "id": "c56b1af6-5dfd-4d82-bee9-0aa211e184e9",
   "metadata": {},
   "outputs": [],
   "source": [
    "import subprocess\n",
    "import time\n",
    "import requests\n",
    "import webbrowser\n",
    "from threading import Thread\n",
    "\n",
    "def start_web_app():\n",
    "    \"\"\"Start the Flask web app in the background\"\"\"\n",
    "    try:\n",
    "        # Start the Flask app\n",
    "        subprocess.run(['python', 'app.py'], check=True)\n",
    "    except subprocess.CalledProcessError as e:\n",
    "        print(f\"Error starting web app: {e}\")\n",
    "\n",
    "def test_web_app():\n",
    "    \"\"\"Test if the web app is working\"\"\"\n",
    "    try:\n",
    "        # Test if the web app is running\n",
    "        response = requests.get('http://localhost:5000', timeout=5)\n",
    "        if response.status_code == 200:\n",
    "            print(\"✅ Web app is running successfully!\")\n",
    "            print(\"🌐 Opening web browser...\")\n",
    "            webbrowser.open('http://localhost:5000')\n",
    "            return True\n",
    "        else:\n",
    "            print(f\"❌ Web app returned status code: {response.status_code}\")\n",
    "            return False\n",
    "    except requests.exceptions.RequestException as e:\n",
    "        print(f\"❌ Web app is not running: {e}\")\n",
    "        return False\n",
    "\n",
    "# Start the web app in a separate thread\n",
    "print(\"🚀 Starting web application...\")\n",
    "web_app_thread = Thread(target=start_web_app, daemon=True)\n",
    "web_app_thread.start()\n",
    "\n",
    "# Wait a moment for the app to start\n",
    "time.sleep(3)\n",
    "\n",
    "# Test if it's working\n",
    "test_web_app()"
   ]
  },
  {
   "cell_type": "code",
   "execution_count": null,
   "id": "63efe615-86d9-4d51-a912-144126caabb2",
   "metadata": {},
   "outputs": [],
   "source": []
  },
  {
   "cell_type": "code",
   "execution_count": null,
   "id": "1f996aaf-a7a4-4075-8c85-369d0dbb635c",
   "metadata": {},
   "outputs": [],
   "source": []
  },
  {
   "cell_type": "code",
   "execution_count": null,
   "id": "ab077715-ae2c-4e2a-951c-13a36887f4f7",
   "metadata": {},
   "outputs": [],
   "source": []
  },
  {
   "cell_type": "code",
   "execution_count": null,
   "id": "84a62506-7f3e-4358-944a-608411a2dbc3",
   "metadata": {},
   "outputs": [],
   "source": []
  },
  {
   "cell_type": "code",
   "execution_count": null,
   "id": "add78933-ed7c-4ec3-a1e9-ee4feb05f410",
   "metadata": {},
   "outputs": [],
   "source": []
  },
  {
   "cell_type": "code",
   "execution_count": null,
   "id": "9b4cfaeb-8286-4ffd-a7b9-c49890c1f0e2",
   "metadata": {},
   "outputs": [],
   "source": []
  },
  {
   "cell_type": "code",
   "execution_count": null,
   "id": "e3b70f62-c4bd-42af-b9f6-1f16b9c5ec00",
   "metadata": {},
   "outputs": [],
   "source": []
  },
  {
   "cell_type": "code",
   "execution_count": null,
   "id": "24c7b5b6-b080-47ed-a630-d73f3552c6d0",
   "metadata": {},
   "outputs": [],
   "source": []
  },
  {
   "cell_type": "code",
   "execution_count": null,
   "id": "e32b51dc-0943-4316-a722-7413be007a7a",
   "metadata": {},
   "outputs": [],
   "source": []
  }
 ],
 "metadata": {
  "kernelspec": {
   "display_name": "Python 3 (ipykernel)",
   "language": "python",
   "name": "python3"
  },
  "language_info": {
   "codemirror_mode": {
    "name": "ipython",
    "version": 3
   },
   "file_extension": ".py",
   "mimetype": "text/x-python",
   "name": "python",
   "nbconvert_exporter": "python",
   "pygments_lexer": "ipython3",
   "version": "3.13.5"
  }
 },
 "nbformat": 4,
 "nbformat_minor": 5
}
